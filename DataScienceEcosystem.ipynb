{
 "cells": [
  {
   "cell_type": "markdown",
   "id": "61b40400-8a67-47d6-b825-89bc90685607",
   "metadata": {},
   "source": [
    "# Data Science Tools and Ecosystem"
   ]
  },
  {
   "cell_type": "markdown",
   "id": "9010e70a-a58e-4d62-a225-a0285371144b",
   "metadata": {},
   "source": [
    "In this notebook, Data Science Tools and Ecosystem are summarized."
   ]
  },
  {
   "cell_type": "markdown",
   "id": "d65590ea-5ce1-4d3f-818a-1dad7f0eb6d5",
   "metadata": {},
   "source": [
    "**Objectives:**\n",
    "* List popular languages for Data Science\n",
    "* List of libraries used by Data Scientists \n",
    "* Data Science tools\n",
    "* Arithmetic Expressions\n"
   ]
  },
  {
   "cell_type": "markdown",
   "id": "5273a682-6306-4732-a040-ae016e481a78",
   "metadata": {},
   "source": [
    "Some of the popular languages that Data Scientists use are:\n",
    "1. Python\n",
    "2. R\n",
    "3. Scala\n",
    "4. Julia"
   ]
  },
  {
   "cell_type": "markdown",
   "id": "7719528a-5bbf-4d42-b7ad-85f483144468",
   "metadata": {},
   "source": [
    "Some of the commonly used libraries used by Data Scientists include:\n",
    "1. numpy\n",
    "2. pandas\n",
    "3. matplotlib\n",
    "4. tensor flow"
   ]
  },
  {
   "cell_type": "markdown",
   "id": "75eaa05b-c0b5-4695-bbbf-2658bd40d792",
   "metadata": {},
   "source": [
    "| Data Science Tools |\n",
    "----------------------\n",
    "| JupyterLab |\n",
    "------------------\n",
    "| RStudio |\n",
    "------------------\n",
    "| Spyder |\n",
    "-----------------\n"
   ]
  },
  {
   "cell_type": "markdown",
   "id": "6830ebea-7407-4eb1-a1d7-2d9da866bd1c",
   "metadata": {},
   "source": [
    "### Below are a few examples of evaluating arithmetic expressions in Python"
   ]
  },
  {
   "cell_type": "code",
   "execution_count": 2,
   "id": "9c7e53b5-d449-41b8-a848-d18fabdb4155",
   "metadata": {},
   "outputs": [
    {
     "data": {
      "text/plain": [
       "17"
      ]
     },
     "execution_count": 2,
     "metadata": {},
     "output_type": "execute_result"
    }
   ],
   "source": [
    "# This is a simple arithmetic expression to multiply then add integers\n",
    "(3*4)+5"
   ]
  },
  {
   "cell_type": "code",
   "execution_count": 1,
   "id": "6f72ac74-1580-4664-8f79-35b8293b8303",
   "metadata": {},
   "outputs": [
    {
     "data": {
      "text/plain": [
       "3.3333333333333335"
      ]
     },
     "execution_count": 1,
     "metadata": {},
     "output_type": "execute_result"
    }
   ],
   "source": [
    "# This will convert 200 minutes to hours by diving by 60\n",
    "200/60"
   ]
  },
  {
   "cell_type": "markdown",
   "id": "ea032ce3-dd8b-4b4e-8ef8-6faa0a7018b5",
   "metadata": {},
   "source": [
    "## Author\n",
    "Suman Tiwari"
   ]
  },
  {
   "cell_type": "code",
   "execution_count": null,
   "id": "c298c024-a4fe-4955-beed-4d27a2e53f93",
   "metadata": {},
   "outputs": [],
   "source": []
  }
 ],
 "metadata": {
  "kernelspec": {
   "display_name": "Python 3 (ipykernel)",
   "language": "python",
   "name": "python3"
  },
  "language_info": {
   "codemirror_mode": {
    "name": "ipython",
    "version": 3
   },
   "file_extension": ".py",
   "mimetype": "text/x-python",
   "name": "python",
   "nbconvert_exporter": "python",
   "pygments_lexer": "ipython3",
   "version": "3.12.8"
  }
 },
 "nbformat": 4,
 "nbformat_minor": 5
}
